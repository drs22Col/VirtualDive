{
 "cells": [
  {
   "cell_type": "markdown",
   "metadata": {},
   "source": [
    "## Here's a notebook of how I cleaned the data I used in my example Bokeh app, VirtualDive\n",
    "**NOTE: This notebook is optional: I've already provided cleaned data files in the data folder of this repo so that this does not need to be run before the Bokeh notebook**"
   ]
  },
  {
   "cell_type": "markdown",
   "metadata": {},
   "source": [
    "1) Let's import our packages! For this bit all I used was Pandas and Numpy:"
   ]
  },
  {
   "cell_type": "code",
   "execution_count": 1,
   "metadata": {
    "scrolled": true
   },
   "outputs": [],
   "source": [
    "import pandas as pd\n",
    "import numpy as np"
   ]
  },
  {
   "cell_type": "markdown",
   "metadata": {},
   "source": [
    "2) Let's load our data into a couple Pandas dataframes! ReefLocations is actually from http://reefbase.org/ and the SEDAC 2000 population density data is actually from https://neo.sci.gsfc.nasa.gov/view.php?datasetId=SEDAC_POP . I've just reuploaded both to GitHub to make sure the files don't move or change in the future."
   ]
  },
  {
   "cell_type": "code",
   "execution_count": 22,
   "metadata": {},
   "outputs": [],
   "source": [
    "reeflocations=pd.read_csv(\"https://raw.githubusercontent.com/mistergroot/VirtualDive/master/data/ReefLocations.csv\")\n",
    "pop = pd.read_csv(\"https://raw.githubusercontent.com/mistergroot/VirtualDive/master/data/SEDAC_POP_2000-01-01_rgb_1440x720.SS.CSV\")"
   ]
  },
  {
   "cell_type": "markdown",
   "metadata": {},
   "source": [
    "3) Let's see what we have to work with:"
   ]
  },
  {
   "cell_type": "code",
   "execution_count": 23,
   "metadata": {},
   "outputs": [
    {
     "data": {
      "text/html": [
       "<div>\n",
       "<style scoped>\n",
       "    .dataframe tbody tr th:only-of-type {\n",
       "        vertical-align: middle;\n",
       "    }\n",
       "\n",
       "    .dataframe tbody tr th {\n",
       "        vertical-align: top;\n",
       "    }\n",
       "\n",
       "    .dataframe thead th {\n",
       "        text-align: right;\n",
       "    }\n",
       "</style>\n",
       "<table border=\"1\" class=\"dataframe\">\n",
       "  <thead>\n",
       "    <tr style=\"text-align: right;\">\n",
       "      <th></th>\n",
       "      <th>ID</th>\n",
       "      <th>REGION</th>\n",
       "      <th>SUBREGION</th>\n",
       "      <th>COUNTRY</th>\n",
       "      <th>LOCATION</th>\n",
       "      <th>LAT</th>\n",
       "      <th>LON</th>\n",
       "      <th>REEF_SYSTEM</th>\n",
       "      <th>REEF_TYPE</th>\n",
       "      <th>REEF_NAME</th>\n",
       "      <th>WATER_DEPTH</th>\n",
       "      <th>ISLAND_NAME</th>\n",
       "      <th>PROTECTED</th>\n",
       "      <th>TOURISM</th>\n",
       "      <th>COUNTRY_CODE</th>\n",
       "      <th>SIZE</th>\n",
       "    </tr>\n",
       "  </thead>\n",
       "  <tbody>\n",
       "    <tr>\n",
       "      <th>0</th>\n",
       "      <td>62</td>\n",
       "      <td>Pacific</td>\n",
       "      <td>Southwest Pacific</td>\n",
       "      <td>Fiji</td>\n",
       "      <td>NaN</td>\n",
       "      <td>-16.00000</td>\n",
       "      <td>-179.98333</td>\n",
       "      <td>Vanua Levu</td>\n",
       "      <td>Fringing</td>\n",
       "      <td>Cikobia</td>\n",
       "      <td>NaN</td>\n",
       "      <td>Vanua Levu</td>\n",
       "      <td>0.0</td>\n",
       "      <td>0</td>\n",
       "      <td>FJI</td>\n",
       "      <td>3</td>\n",
       "    </tr>\n",
       "    <tr>\n",
       "      <th>1</th>\n",
       "      <td>4475</td>\n",
       "      <td>Pacific</td>\n",
       "      <td>Southwest Pacific</td>\n",
       "      <td>Fiji</td>\n",
       "      <td>NaN</td>\n",
       "      <td>-17.50000</td>\n",
       "      <td>-179.95000</td>\n",
       "      <td>Vanua Balavu</td>\n",
       "      <td>Barrier</td>\n",
       "      <td>Daku Barrier Reef</td>\n",
       "      <td>NaN</td>\n",
       "      <td>NaN</td>\n",
       "      <td>0.0</td>\n",
       "      <td>0</td>\n",
       "      <td>FJI</td>\n",
       "      <td>3</td>\n",
       "    </tr>\n",
       "    <tr>\n",
       "      <th>2</th>\n",
       "      <td>4457</td>\n",
       "      <td>Pacific</td>\n",
       "      <td>Southwest Pacific</td>\n",
       "      <td>Fiji</td>\n",
       "      <td>NaN</td>\n",
       "      <td>-16.66667</td>\n",
       "      <td>-179.83333</td>\n",
       "      <td>Taveuni</td>\n",
       "      <td>Fringing</td>\n",
       "      <td>Korolevu</td>\n",
       "      <td>NaN</td>\n",
       "      <td>NaN</td>\n",
       "      <td>0.0</td>\n",
       "      <td>0</td>\n",
       "      <td>FJI</td>\n",
       "      <td>3</td>\n",
       "    </tr>\n",
       "    <tr>\n",
       "      <th>3</th>\n",
       "      <td>4459</td>\n",
       "      <td>Pacific</td>\n",
       "      <td>Southwest Pacific</td>\n",
       "      <td>Fiji</td>\n",
       "      <td>NaN</td>\n",
       "      <td>-16.73333</td>\n",
       "      <td>-179.83333</td>\n",
       "      <td>Taveuni</td>\n",
       "      <td>Fringing</td>\n",
       "      <td>Viubani</td>\n",
       "      <td>NaN</td>\n",
       "      <td>NaN</td>\n",
       "      <td>0.0</td>\n",
       "      <td>0</td>\n",
       "      <td>FJI</td>\n",
       "      <td>3</td>\n",
       "    </tr>\n",
       "  </tbody>\n",
       "</table>\n",
       "</div>"
      ],
      "text/plain": [
       "     ID   REGION          SUBREGION COUNTRY LOCATION       LAT        LON  \\\n",
       "0    62  Pacific  Southwest Pacific    Fiji      NaN -16.00000 -179.98333   \n",
       "1  4475  Pacific  Southwest Pacific    Fiji      NaN -17.50000 -179.95000   \n",
       "2  4457  Pacific  Southwest Pacific    Fiji      NaN -16.66667 -179.83333   \n",
       "3  4459  Pacific  Southwest Pacific    Fiji      NaN -16.73333 -179.83333   \n",
       "\n",
       "    REEF_SYSTEM REEF_TYPE          REEF_NAME WATER_DEPTH ISLAND_NAME  \\\n",
       "0    Vanua Levu  Fringing            Cikobia         NaN  Vanua Levu   \n",
       "1  Vanua Balavu   Barrier  Daku Barrier Reef         NaN         NaN   \n",
       "2       Taveuni  Fringing           Korolevu         NaN         NaN   \n",
       "3       Taveuni  Fringing            Viubani         NaN         NaN   \n",
       "\n",
       "   PROTECTED  TOURISM COUNTRY_CODE  SIZE  \n",
       "0        0.0        0          FJI     3  \n",
       "1        0.0        0          FJI     3  \n",
       "2        0.0        0          FJI     3  \n",
       "3        0.0        0          FJI     3  "
      ]
     },
     "execution_count": 23,
     "metadata": {},
     "output_type": "execute_result"
    }
   ],
   "source": [
    "reeflocations.head(4)"
   ]
  },
  {
   "cell_type": "code",
   "execution_count": 24,
   "metadata": {},
   "outputs": [
    {
     "data": {
      "text/html": [
       "<div>\n",
       "<style scoped>\n",
       "    .dataframe tbody tr th:only-of-type {\n",
       "        vertical-align: middle;\n",
       "    }\n",
       "\n",
       "    .dataframe tbody tr th {\n",
       "        vertical-align: top;\n",
       "    }\n",
       "\n",
       "    .dataframe thead th {\n",
       "        text-align: right;\n",
       "    }\n",
       "</style>\n",
       "<table border=\"1\" class=\"dataframe\">\n",
       "  <thead>\n",
       "    <tr style=\"text-align: right;\">\n",
       "      <th></th>\n",
       "      <th>lat/lon</th>\n",
       "      <th>-179.875</th>\n",
       "      <th>-179.625</th>\n",
       "      <th>-179.375</th>\n",
       "      <th>-179.125</th>\n",
       "      <th>-178.875</th>\n",
       "      <th>-178.625</th>\n",
       "      <th>-178.375</th>\n",
       "      <th>-178.125</th>\n",
       "      <th>-177.875</th>\n",
       "      <th>...</th>\n",
       "      <th>177.625</th>\n",
       "      <th>177.875</th>\n",
       "      <th>178.125</th>\n",
       "      <th>178.375</th>\n",
       "      <th>178.625</th>\n",
       "      <th>178.875</th>\n",
       "      <th>179.125</th>\n",
       "      <th>179.375</th>\n",
       "      <th>179.625</th>\n",
       "      <th>179.875</th>\n",
       "    </tr>\n",
       "  </thead>\n",
       "  <tbody>\n",
       "    <tr>\n",
       "      <th>0</th>\n",
       "      <td>89.875</td>\n",
       "      <td>99999.0</td>\n",
       "      <td>99999.0</td>\n",
       "      <td>99999.0</td>\n",
       "      <td>99999.0</td>\n",
       "      <td>99999.0</td>\n",
       "      <td>99999.0</td>\n",
       "      <td>99999.0</td>\n",
       "      <td>99999.0</td>\n",
       "      <td>99999.0</td>\n",
       "      <td>...</td>\n",
       "      <td>99999.0</td>\n",
       "      <td>99999.0</td>\n",
       "      <td>99999.0</td>\n",
       "      <td>99999.0</td>\n",
       "      <td>99999.0</td>\n",
       "      <td>99999.0</td>\n",
       "      <td>99999.0</td>\n",
       "      <td>99999.0</td>\n",
       "      <td>99999.0</td>\n",
       "      <td>99999.0</td>\n",
       "    </tr>\n",
       "    <tr>\n",
       "      <th>1</th>\n",
       "      <td>89.625</td>\n",
       "      <td>99999.0</td>\n",
       "      <td>99999.0</td>\n",
       "      <td>99999.0</td>\n",
       "      <td>99999.0</td>\n",
       "      <td>99999.0</td>\n",
       "      <td>99999.0</td>\n",
       "      <td>99999.0</td>\n",
       "      <td>99999.0</td>\n",
       "      <td>99999.0</td>\n",
       "      <td>...</td>\n",
       "      <td>99999.0</td>\n",
       "      <td>99999.0</td>\n",
       "      <td>99999.0</td>\n",
       "      <td>99999.0</td>\n",
       "      <td>99999.0</td>\n",
       "      <td>99999.0</td>\n",
       "      <td>99999.0</td>\n",
       "      <td>99999.0</td>\n",
       "      <td>99999.0</td>\n",
       "      <td>99999.0</td>\n",
       "    </tr>\n",
       "    <tr>\n",
       "      <th>2</th>\n",
       "      <td>89.375</td>\n",
       "      <td>99999.0</td>\n",
       "      <td>99999.0</td>\n",
       "      <td>99999.0</td>\n",
       "      <td>99999.0</td>\n",
       "      <td>99999.0</td>\n",
       "      <td>99999.0</td>\n",
       "      <td>99999.0</td>\n",
       "      <td>99999.0</td>\n",
       "      <td>99999.0</td>\n",
       "      <td>...</td>\n",
       "      <td>99999.0</td>\n",
       "      <td>99999.0</td>\n",
       "      <td>99999.0</td>\n",
       "      <td>99999.0</td>\n",
       "      <td>99999.0</td>\n",
       "      <td>99999.0</td>\n",
       "      <td>99999.0</td>\n",
       "      <td>99999.0</td>\n",
       "      <td>99999.0</td>\n",
       "      <td>99999.0</td>\n",
       "    </tr>\n",
       "    <tr>\n",
       "      <th>3</th>\n",
       "      <td>89.125</td>\n",
       "      <td>99999.0</td>\n",
       "      <td>99999.0</td>\n",
       "      <td>99999.0</td>\n",
       "      <td>99999.0</td>\n",
       "      <td>99999.0</td>\n",
       "      <td>99999.0</td>\n",
       "      <td>99999.0</td>\n",
       "      <td>99999.0</td>\n",
       "      <td>99999.0</td>\n",
       "      <td>...</td>\n",
       "      <td>99999.0</td>\n",
       "      <td>99999.0</td>\n",
       "      <td>99999.0</td>\n",
       "      <td>99999.0</td>\n",
       "      <td>99999.0</td>\n",
       "      <td>99999.0</td>\n",
       "      <td>99999.0</td>\n",
       "      <td>99999.0</td>\n",
       "      <td>99999.0</td>\n",
       "      <td>99999.0</td>\n",
       "    </tr>\n",
       "  </tbody>\n",
       "</table>\n",
       "<p>4 rows × 1441 columns</p>\n",
       "</div>"
      ],
      "text/plain": [
       "   lat/lon  -179.875  -179.625  -179.375  -179.125  -178.875  -178.625  \\\n",
       "0   89.875   99999.0   99999.0   99999.0   99999.0   99999.0   99999.0   \n",
       "1   89.625   99999.0   99999.0   99999.0   99999.0   99999.0   99999.0   \n",
       "2   89.375   99999.0   99999.0   99999.0   99999.0   99999.0   99999.0   \n",
       "3   89.125   99999.0   99999.0   99999.0   99999.0   99999.0   99999.0   \n",
       "\n",
       "   -178.375  -178.125  -177.875   ...     177.625  177.875  178.125  178.375  \\\n",
       "0   99999.0   99999.0   99999.0   ...     99999.0  99999.0  99999.0  99999.0   \n",
       "1   99999.0   99999.0   99999.0   ...     99999.0  99999.0  99999.0  99999.0   \n",
       "2   99999.0   99999.0   99999.0   ...     99999.0  99999.0  99999.0  99999.0   \n",
       "3   99999.0   99999.0   99999.0   ...     99999.0  99999.0  99999.0  99999.0   \n",
       "\n",
       "   178.625  178.875  179.125  179.375  179.625  179.875  \n",
       "0  99999.0  99999.0  99999.0  99999.0  99999.0  99999.0  \n",
       "1  99999.0  99999.0  99999.0  99999.0  99999.0  99999.0  \n",
       "2  99999.0  99999.0  99999.0  99999.0  99999.0  99999.0  \n",
       "3  99999.0  99999.0  99999.0  99999.0  99999.0  99999.0  \n",
       "\n",
       "[4 rows x 1441 columns]"
      ]
     },
     "execution_count": 24,
     "metadata": {},
     "output_type": "execute_result"
    }
   ],
   "source": [
    "pop.head(4)"
   ]
  },
  {
   "cell_type": "markdown",
   "metadata": {},
   "source": [
    "4) Let's start with the pop data. It looks pretty ugly. It's a gridded dataset where the top row and left column are longitudes and latitudes, respectively. I don't like that the latitudes are in an unindexed column. Let's change that. It's also going to make the index look weird with the name 'lat/lon' there, so let's get rid of it at the same time:"
   ]
  },
  {
   "cell_type": "code",
   "execution_count": 25,
   "metadata": {},
   "outputs": [],
   "source": [
    "pop = pop.set_index('lat/lon')\n",
    "del pop.index.name"
   ]
  },
  {
   "cell_type": "code",
   "execution_count": 26,
   "metadata": {},
   "outputs": [
    {
     "data": {
      "text/html": [
       "<div>\n",
       "<style scoped>\n",
       "    .dataframe tbody tr th:only-of-type {\n",
       "        vertical-align: middle;\n",
       "    }\n",
       "\n",
       "    .dataframe tbody tr th {\n",
       "        vertical-align: top;\n",
       "    }\n",
       "\n",
       "    .dataframe thead th {\n",
       "        text-align: right;\n",
       "    }\n",
       "</style>\n",
       "<table border=\"1\" class=\"dataframe\">\n",
       "  <thead>\n",
       "    <tr style=\"text-align: right;\">\n",
       "      <th></th>\n",
       "      <th>-179.875</th>\n",
       "      <th>-179.625</th>\n",
       "      <th>-179.375</th>\n",
       "      <th>-179.125</th>\n",
       "      <th>-178.875</th>\n",
       "      <th>-178.625</th>\n",
       "      <th>-178.375</th>\n",
       "      <th>-178.125</th>\n",
       "      <th>-177.875</th>\n",
       "      <th>-177.625</th>\n",
       "      <th>...</th>\n",
       "      <th>177.625</th>\n",
       "      <th>177.875</th>\n",
       "      <th>178.125</th>\n",
       "      <th>178.375</th>\n",
       "      <th>178.625</th>\n",
       "      <th>178.875</th>\n",
       "      <th>179.125</th>\n",
       "      <th>179.375</th>\n",
       "      <th>179.625</th>\n",
       "      <th>179.875</th>\n",
       "    </tr>\n",
       "  </thead>\n",
       "  <tbody>\n",
       "    <tr>\n",
       "      <th>89.875</th>\n",
       "      <td>99999.0</td>\n",
       "      <td>99999.0</td>\n",
       "      <td>99999.0</td>\n",
       "      <td>99999.0</td>\n",
       "      <td>99999.0</td>\n",
       "      <td>99999.0</td>\n",
       "      <td>99999.0</td>\n",
       "      <td>99999.0</td>\n",
       "      <td>99999.0</td>\n",
       "      <td>99999.0</td>\n",
       "      <td>...</td>\n",
       "      <td>99999.0</td>\n",
       "      <td>99999.0</td>\n",
       "      <td>99999.0</td>\n",
       "      <td>99999.0</td>\n",
       "      <td>99999.0</td>\n",
       "      <td>99999.0</td>\n",
       "      <td>99999.0</td>\n",
       "      <td>99999.0</td>\n",
       "      <td>99999.0</td>\n",
       "      <td>99999.0</td>\n",
       "    </tr>\n",
       "    <tr>\n",
       "      <th>89.625</th>\n",
       "      <td>99999.0</td>\n",
       "      <td>99999.0</td>\n",
       "      <td>99999.0</td>\n",
       "      <td>99999.0</td>\n",
       "      <td>99999.0</td>\n",
       "      <td>99999.0</td>\n",
       "      <td>99999.0</td>\n",
       "      <td>99999.0</td>\n",
       "      <td>99999.0</td>\n",
       "      <td>99999.0</td>\n",
       "      <td>...</td>\n",
       "      <td>99999.0</td>\n",
       "      <td>99999.0</td>\n",
       "      <td>99999.0</td>\n",
       "      <td>99999.0</td>\n",
       "      <td>99999.0</td>\n",
       "      <td>99999.0</td>\n",
       "      <td>99999.0</td>\n",
       "      <td>99999.0</td>\n",
       "      <td>99999.0</td>\n",
       "      <td>99999.0</td>\n",
       "    </tr>\n",
       "  </tbody>\n",
       "</table>\n",
       "<p>2 rows × 1440 columns</p>\n",
       "</div>"
      ],
      "text/plain": [
       "        -179.875  -179.625  -179.375  -179.125  -178.875  -178.625  -178.375  \\\n",
       "89.875   99999.0   99999.0   99999.0   99999.0   99999.0   99999.0   99999.0   \n",
       "89.625   99999.0   99999.0   99999.0   99999.0   99999.0   99999.0   99999.0   \n",
       "\n",
       "        -178.125  -177.875  -177.625   ...     177.625  177.875  178.125  \\\n",
       "89.875   99999.0   99999.0   99999.0   ...     99999.0  99999.0  99999.0   \n",
       "89.625   99999.0   99999.0   99999.0   ...     99999.0  99999.0  99999.0   \n",
       "\n",
       "        178.375  178.625  178.875  179.125  179.375  179.625  179.875  \n",
       "89.875  99999.0  99999.0  99999.0  99999.0  99999.0  99999.0  99999.0  \n",
       "89.625  99999.0  99999.0  99999.0  99999.0  99999.0  99999.0  99999.0  \n",
       "\n",
       "[2 rows x 1440 columns]"
      ]
     },
     "execution_count": 26,
     "metadata": {},
     "output_type": "execute_result"
    }
   ],
   "source": [
    "pop.head(2)"
   ]
  },
  {
   "cell_type": "markdown",
   "metadata": {},
   "source": [
    "5) Okay now let's go ahead and convert this gridded data to \"lat\", \"lon\", and \"popdens\" columns. This line of code essentially finds all `'item'`s in the dataframe and displays its column and row name side by side. I wanted data greater than 250 people per km^2 (because if we start at 0 we'll have maybe 100,000 datapoints and that's excessive for my needs) and less than 99999 (because 99999 is a filler value which is equivalent to no data/no people):"
   ]
  },
  {
   "cell_type": "code",
   "execution_count": 27,
   "metadata": {},
   "outputs": [],
   "source": [
    "data = pop.stack().to_frame('item').query('250 < item < 99999')"
   ]
  },
  {
   "cell_type": "code",
   "execution_count": 28,
   "metadata": {},
   "outputs": [
    {
     "data": {
      "text/html": [
       "<div>\n",
       "<style scoped>\n",
       "    .dataframe tbody tr th:only-of-type {\n",
       "        vertical-align: middle;\n",
       "    }\n",
       "\n",
       "    .dataframe tbody tr th {\n",
       "        vertical-align: top;\n",
       "    }\n",
       "\n",
       "    .dataframe thead th {\n",
       "        text-align: right;\n",
       "    }\n",
       "</style>\n",
       "<table border=\"1\" class=\"dataframe\">\n",
       "  <thead>\n",
       "    <tr style=\"text-align: right;\">\n",
       "      <th></th>\n",
       "      <th></th>\n",
       "      <th>item</th>\n",
       "    </tr>\n",
       "  </thead>\n",
       "  <tbody>\n",
       "    <tr>\n",
       "      <th>69.375</th>\n",
       "      <th>88.125</th>\n",
       "      <td>2102.98</td>\n",
       "    </tr>\n",
       "    <tr>\n",
       "      <th>65.125</th>\n",
       "      <th>57.375</th>\n",
       "      <td>790.02</td>\n",
       "    </tr>\n",
       "    <tr>\n",
       "      <th>64.875</th>\n",
       "      <th>-147.875</th>\n",
       "      <td>382.54</td>\n",
       "    </tr>\n",
       "    <tr>\n",
       "      <th>64.375</th>\n",
       "      <th>40.875</th>\n",
       "      <td>819.19</td>\n",
       "    </tr>\n",
       "  </tbody>\n",
       "</table>\n",
       "</div>"
      ],
      "text/plain": [
       "                    item\n",
       "69.375 88.125    2102.98\n",
       "65.125 57.375     790.02\n",
       "64.875 -147.875   382.54\n",
       "64.375 40.875     819.19"
      ]
     },
     "execution_count": 28,
     "metadata": {},
     "output_type": "execute_result"
    }
   ],
   "source": [
    "data.head(4)"
   ]
  },
  {
   "cell_type": "markdown",
   "metadata": {},
   "source": [
    "6) Looks good! Formatting is a bit messed up though, so let's reset the indexed column and rename the columns to the correct thing."
   ]
  },
  {
   "cell_type": "code",
   "execution_count": 29,
   "metadata": {},
   "outputs": [
    {
     "data": {
      "text/html": [
       "<div>\n",
       "<style scoped>\n",
       "    .dataframe tbody tr th:only-of-type {\n",
       "        vertical-align: middle;\n",
       "    }\n",
       "\n",
       "    .dataframe tbody tr th {\n",
       "        vertical-align: top;\n",
       "    }\n",
       "\n",
       "    .dataframe thead th {\n",
       "        text-align: right;\n",
       "    }\n",
       "</style>\n",
       "<table border=\"1\" class=\"dataframe\">\n",
       "  <thead>\n",
       "    <tr style=\"text-align: right;\">\n",
       "      <th></th>\n",
       "      <th>lat</th>\n",
       "      <th>lon</th>\n",
       "      <th>popdens</th>\n",
       "    </tr>\n",
       "  </thead>\n",
       "  <tbody>\n",
       "    <tr>\n",
       "      <th>0</th>\n",
       "      <td>69.375</td>\n",
       "      <td>88.125</td>\n",
       "      <td>2102.98</td>\n",
       "    </tr>\n",
       "    <tr>\n",
       "      <th>1</th>\n",
       "      <td>65.125</td>\n",
       "      <td>57.375</td>\n",
       "      <td>790.02</td>\n",
       "    </tr>\n",
       "    <tr>\n",
       "      <th>2</th>\n",
       "      <td>64.875</td>\n",
       "      <td>-147.875</td>\n",
       "      <td>382.54</td>\n",
       "    </tr>\n",
       "    <tr>\n",
       "      <th>3</th>\n",
       "      <td>64.375</td>\n",
       "      <td>40.875</td>\n",
       "      <td>819.19</td>\n",
       "    </tr>\n",
       "  </tbody>\n",
       "</table>\n",
       "</div>"
      ],
      "text/plain": [
       "      lat       lon  popdens\n",
       "0  69.375    88.125  2102.98\n",
       "1  65.125    57.375   790.02\n",
       "2  64.875  -147.875   382.54\n",
       "3  64.375    40.875   819.19"
      ]
     },
     "execution_count": 29,
     "metadata": {},
     "output_type": "execute_result"
    }
   ],
   "source": [
    "data = data.reset_index(drop=False)\n",
    "data.rename(columns={'level_0':'lat','level_1':'lon','item':'popdens'}, inplace=True)\n",
    "data.head(4)"
   ]
  },
  {
   "cell_type": "markdown",
   "metadata": {},
   "source": [
    "7) We're done with the population data! Let's export it to a CSV:"
   ]
  },
  {
   "cell_type": "code",
   "execution_count": 30,
   "metadata": {},
   "outputs": [],
   "source": [
    "data.to_csv(\"../data/popdata.csv\")"
   ]
  },
  {
   "cell_type": "markdown",
   "metadata": {},
   "source": [
    "8) Now let's start on the reef data. This should be easier to do since it's already in columns rather than gridded. Firstly let's check what datatype our columns are in:"
   ]
  },
  {
   "cell_type": "code",
   "execution_count": 31,
   "metadata": {},
   "outputs": [
    {
     "data": {
      "text/plain": [
       "ID                int64\n",
       "REGION           object\n",
       "SUBREGION        object\n",
       "COUNTRY          object\n",
       "LOCATION         object\n",
       "LAT             float64\n",
       "LON             float64\n",
       "REEF_SYSTEM      object\n",
       "REEF_TYPE        object\n",
       "REEF_NAME        object\n",
       "WATER_DEPTH      object\n",
       "ISLAND_NAME      object\n",
       "PROTECTED       float64\n",
       "TOURISM           int64\n",
       "COUNTRY_CODE     object\n",
       "SIZE              int64\n",
       "dtype: object"
      ]
     },
     "execution_count": 31,
     "metadata": {},
     "output_type": "execute_result"
    }
   ],
   "source": [
    "reeflocations.dtypes"
   ]
  },
  {
   "cell_type": "markdown",
   "metadata": {},
   "source": [
    "9) I don't like that some numeric data is stored as objects (e.g. WATER_DEPTH) so we'll convert objects that are numeric into floats. We're not actually going to use the water depth later, I just want to do this anyway:"
   ]
  },
  {
   "cell_type": "code",
   "execution_count": 36,
   "metadata": {},
   "outputs": [
    {
     "name": "stderr",
     "output_type": "stream",
     "text": [
      "/home/nickpichome/miniconda3/envs/py36/lib/python3.6/site-packages/ipykernel_launcher.py:1: FutureWarning: convert_objects is deprecated.  To re-infer data dtypes for object columns, use DataFrame.infer_objects()\n",
      "For all other conversions use the data-type specific converters pd.to_datetime, pd.to_timedelta and pd.to_numeric.\n",
      "  \"\"\"Entry point for launching an IPython kernel.\n"
     ]
    },
    {
     "data": {
      "text/plain": [
       "ID                int64\n",
       "REGION           object\n",
       "SUBREGION        object\n",
       "COUNTRY          object\n",
       "LOCATION        float64\n",
       "LAT             float64\n",
       "LON             float64\n",
       "REEF_SYSTEM      object\n",
       "REEF_TYPE        object\n",
       "REEF_NAME        object\n",
       "WATER_DEPTH     float64\n",
       "ISLAND_NAME      object\n",
       "PROTECTED       float64\n",
       "TOURISM           int64\n",
       "COUNTRY_CODE    float64\n",
       "SIZE              int64\n",
       "dtype: object"
      ]
     },
     "execution_count": 36,
     "metadata": {},
     "output_type": "execute_result"
    }
   ],
   "source": [
    "reeflocations = reeflocations.convert_objects(convert_numeric=True)\n",
    "reeflocations.dtypes"
   ]
  },
  {
   "cell_type": "markdown",
   "metadata": {},
   "source": [
    "10) Now, in the unformatted data, unprotected reefs are represented with 0 and protected reefs are represented with a 1. If data is absent, I'd like to assume that they're not protected, so here we'll use `fillna` to add 0s to the missing portions."
   ]
  },
  {
   "cell_type": "code",
   "execution_count": 37,
   "metadata": {},
   "outputs": [],
   "source": [
    "reeflocations['PROTECTED'] = reeflocations['PROTECTED'].fillna(0)"
   ]
  },
  {
   "cell_type": "markdown",
   "metadata": {},
   "source": [
    "11) I want to replace the 1s and 0s with \"Yes\" and \"No\" now simply because that's how I want it displayed in the glyphs later. I had trouble doing this with the Boolean values of 1 and 0 for some reason so I just convert it to an int first."
   ]
  },
  {
   "cell_type": "code",
   "execution_count": 38,
   "metadata": {},
   "outputs": [
    {
     "data": {
      "text/html": [
       "<div>\n",
       "<style scoped>\n",
       "    .dataframe tbody tr th:only-of-type {\n",
       "        vertical-align: middle;\n",
       "    }\n",
       "\n",
       "    .dataframe tbody tr th {\n",
       "        vertical-align: top;\n",
       "    }\n",
       "\n",
       "    .dataframe thead th {\n",
       "        text-align: right;\n",
       "    }\n",
       "</style>\n",
       "<table border=\"1\" class=\"dataframe\">\n",
       "  <thead>\n",
       "    <tr style=\"text-align: right;\">\n",
       "      <th></th>\n",
       "      <th>ID</th>\n",
       "      <th>REGION</th>\n",
       "      <th>SUBREGION</th>\n",
       "      <th>COUNTRY</th>\n",
       "      <th>LOCATION</th>\n",
       "      <th>LAT</th>\n",
       "      <th>LON</th>\n",
       "      <th>REEF_SYSTEM</th>\n",
       "      <th>REEF_TYPE</th>\n",
       "      <th>REEF_NAME</th>\n",
       "      <th>WATER_DEPTH</th>\n",
       "      <th>ISLAND_NAME</th>\n",
       "      <th>PROTECTED</th>\n",
       "      <th>TOURISM</th>\n",
       "      <th>COUNTRY_CODE</th>\n",
       "      <th>SIZE</th>\n",
       "    </tr>\n",
       "  </thead>\n",
       "  <tbody>\n",
       "    <tr>\n",
       "      <th>0</th>\n",
       "      <td>62</td>\n",
       "      <td>Pacific</td>\n",
       "      <td>Southwest Pacific</td>\n",
       "      <td>Fiji</td>\n",
       "      <td>NaN</td>\n",
       "      <td>-16.00000</td>\n",
       "      <td>-179.98333</td>\n",
       "      <td>Vanua Levu</td>\n",
       "      <td>Fringing</td>\n",
       "      <td>Cikobia</td>\n",
       "      <td>NaN</td>\n",
       "      <td>Vanua Levu</td>\n",
       "      <td>No</td>\n",
       "      <td>0</td>\n",
       "      <td>NaN</td>\n",
       "      <td>3</td>\n",
       "    </tr>\n",
       "    <tr>\n",
       "      <th>1</th>\n",
       "      <td>4475</td>\n",
       "      <td>Pacific</td>\n",
       "      <td>Southwest Pacific</td>\n",
       "      <td>Fiji</td>\n",
       "      <td>NaN</td>\n",
       "      <td>-17.50000</td>\n",
       "      <td>-179.95000</td>\n",
       "      <td>Vanua Balavu</td>\n",
       "      <td>Barrier</td>\n",
       "      <td>Daku Barrier Reef</td>\n",
       "      <td>NaN</td>\n",
       "      <td>NaN</td>\n",
       "      <td>No</td>\n",
       "      <td>0</td>\n",
       "      <td>NaN</td>\n",
       "      <td>3</td>\n",
       "    </tr>\n",
       "    <tr>\n",
       "      <th>2</th>\n",
       "      <td>4457</td>\n",
       "      <td>Pacific</td>\n",
       "      <td>Southwest Pacific</td>\n",
       "      <td>Fiji</td>\n",
       "      <td>NaN</td>\n",
       "      <td>-16.66667</td>\n",
       "      <td>-179.83333</td>\n",
       "      <td>Taveuni</td>\n",
       "      <td>Fringing</td>\n",
       "      <td>Korolevu</td>\n",
       "      <td>NaN</td>\n",
       "      <td>NaN</td>\n",
       "      <td>No</td>\n",
       "      <td>0</td>\n",
       "      <td>NaN</td>\n",
       "      <td>3</td>\n",
       "    </tr>\n",
       "    <tr>\n",
       "      <th>3</th>\n",
       "      <td>4459</td>\n",
       "      <td>Pacific</td>\n",
       "      <td>Southwest Pacific</td>\n",
       "      <td>Fiji</td>\n",
       "      <td>NaN</td>\n",
       "      <td>-16.73333</td>\n",
       "      <td>-179.83333</td>\n",
       "      <td>Taveuni</td>\n",
       "      <td>Fringing</td>\n",
       "      <td>Viubani</td>\n",
       "      <td>NaN</td>\n",
       "      <td>NaN</td>\n",
       "      <td>No</td>\n",
       "      <td>0</td>\n",
       "      <td>NaN</td>\n",
       "      <td>3</td>\n",
       "    </tr>\n",
       "  </tbody>\n",
       "</table>\n",
       "</div>"
      ],
      "text/plain": [
       "     ID   REGION          SUBREGION COUNTRY  LOCATION       LAT        LON  \\\n",
       "0    62  Pacific  Southwest Pacific    Fiji       NaN -16.00000 -179.98333   \n",
       "1  4475  Pacific  Southwest Pacific    Fiji       NaN -17.50000 -179.95000   \n",
       "2  4457  Pacific  Southwest Pacific    Fiji       NaN -16.66667 -179.83333   \n",
       "3  4459  Pacific  Southwest Pacific    Fiji       NaN -16.73333 -179.83333   \n",
       "\n",
       "    REEF_SYSTEM REEF_TYPE          REEF_NAME  WATER_DEPTH ISLAND_NAME  \\\n",
       "0    Vanua Levu  Fringing            Cikobia          NaN  Vanua Levu   \n",
       "1  Vanua Balavu   Barrier  Daku Barrier Reef          NaN         NaN   \n",
       "2       Taveuni  Fringing           Korolevu          NaN         NaN   \n",
       "3       Taveuni  Fringing            Viubani          NaN         NaN   \n",
       "\n",
       "  PROTECTED  TOURISM  COUNTRY_CODE  SIZE  \n",
       "0        No        0           NaN     3  \n",
       "1        No        0           NaN     3  \n",
       "2        No        0           NaN     3  \n",
       "3        No        0           NaN     3  "
      ]
     },
     "execution_count": 38,
     "metadata": {},
     "output_type": "execute_result"
    }
   ],
   "source": [
    "reeflocations['PROTECTED'] = reeflocations['PROTECTED'].astype(np.int64)\n",
    "reeflocations[\"PROTECTED\"] = reeflocations[\"PROTECTED\"].replace(1, \"Yes\")\n",
    "reeflocations[\"PROTECTED\"] = reeflocations[\"PROTECTED\"].replace(0, \"No\")\n",
    "reeflocations.head(4)"
   ]
  },
  {
   "cell_type": "markdown",
   "metadata": {},
   "source": [
    "12) Looks good! Let's split up the data into two separate dataframes based on whether or not they're protected:"
   ]
  },
  {
   "cell_type": "code",
   "execution_count": 39,
   "metadata": {},
   "outputs": [],
   "source": [
    "protected = reeflocations[reeflocations[\"PROTECTED\"] == \"Yes\"]\n",
    "unprotected = reeflocations[reeflocations[\"PROTECTED\"] == \"No\"]"
   ]
  },
  {
   "cell_type": "markdown",
   "metadata": {},
   "source": [
    "13) And finally, we'll export the split and unsplit reef data to CSVs using Pandas:"
   ]
  },
  {
   "cell_type": "code",
   "execution_count": 40,
   "metadata": {},
   "outputs": [],
   "source": [
    "reeflocations.to_csv(\"../data/reefloc.csv\")\n",
    "protected.to_csv(\"../data/protected.csv\")\n",
    "unprotected.to_csv(\"../data/unprotected.csv\")"
   ]
  },
  {
   "cell_type": "markdown",
   "metadata": {},
   "source": [
    "## And we're done processing the raw data! Now to move on to the actual Bokeh app"
   ]
  }
 ],
 "metadata": {
  "kernelspec": {
   "display_name": "Python 3",
   "language": "python",
   "name": "python3"
  },
  "language_info": {
   "codemirror_mode": {
    "name": "ipython",
    "version": 3
   },
   "file_extension": ".py",
   "mimetype": "text/x-python",
   "name": "python",
   "nbconvert_exporter": "python",
   "pygments_lexer": "ipython3",
   "version": "3.6.5"
  }
 },
 "nbformat": 4,
 "nbformat_minor": 2
}

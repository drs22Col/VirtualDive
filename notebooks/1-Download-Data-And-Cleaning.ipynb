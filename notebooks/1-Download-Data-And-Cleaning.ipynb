{
 "cells": [
  {
   "cell_type": "code",
   "execution_count": 1,
   "metadata": {},
   "outputs": [
    {
     "name": "stderr",
     "output_type": "stream",
     "text": [
      "/home/nickpichome/miniconda3/envs/py36/lib/python3.6/site-packages/ipykernel_launcher.py:12: FutureWarning: convert_objects is deprecated.  To re-infer data dtypes for object columns, use DataFrame.infer_objects()\n",
      "For all other conversions use the data-type specific converters pd.to_datetime, pd.to_timedelta and pd.to_numeric.\n",
      "  if sys.path[0] == '':\n"
     ]
    }
   ],
   "source": [
    "import pandas as pd\n",
    "import numpy as np\n",
    "\n",
    "reeflocations=pd.read_csv(\"https://raw.githubusercontent.com/mistergroot/VirtualDive/master/data/ReefLocations.csv\")\n",
    "pop = pd.read_csv(\"https://raw.githubusercontent.com/mistergroot/VirtualDive/master/data/SEDAC_POP_2000-01-01_rgb_1440x720.SS.CSV\")\n",
    "pop = pop.set_index('lat/lon')\n",
    "del pop.index.name\n",
    "pop = pop.astype(object)\n",
    "data = pop.stack().to_frame('item').query('250 < item < 99999')\n",
    "data = data.reset_index(drop=False)\n",
    "data.rename(columns={'level_0':'lat','level_1':'lon','item':'popdens'}, inplace=True)\n",
    "reeflocations = reeflocations.convert_objects(convert_numeric=True)\n",
    "reeflocations['PROTECTED'] = reeflocations['PROTECTED'].fillna(0)\n",
    "reeflocations['PROTECTED'] = reeflocations['PROTECTED'].astype(np.int64)\n",
    "reeflocations[\"PROTECTED\"] = reeflocations[\"PROTECTED\"].replace(1, \"Yes\")\n",
    "reeflocations[\"PROTECTED\"] = reeflocations[\"PROTECTED\"].replace(0, \"No\")\n",
    "protected = reeflocations[reeflocations[\"PROTECTED\"] == \"Yes\"]\n",
    "unprotected = reeflocations[reeflocations[\"PROTECTED\"] == \"No\"]\n",
    "reeflocations.to_csv(\"../data/reefloc.csv\")\n",
    "protected.to_csv(\"../data/protected.csv\")\n",
    "unprotected.to_csv(\"../data/unprotected.csv\")\n",
    "data.to_csv(\"../data/popdata.csv\")"
   ]
  },
  {
   "cell_type": "code",
   "execution_count": null,
   "metadata": {},
   "outputs": [],
   "source": []
  }
 ],
 "metadata": {
  "kernelspec": {
   "display_name": "Python 3",
   "language": "python",
   "name": "python3"
  },
  "language_info": {
   "codemirror_mode": {
    "name": "ipython",
    "version": 3
   },
   "file_extension": ".py",
   "mimetype": "text/x-python",
   "name": "python",
   "nbconvert_exporter": "python",
   "pygments_lexer": "ipython3",
   "version": "3.6.5"
  }
 },
 "nbformat": 4,
 "nbformat_minor": 2
}

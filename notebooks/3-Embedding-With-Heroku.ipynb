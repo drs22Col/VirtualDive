{
 "cells": [
  {
   "cell_type": "markdown",
   "metadata": {},
   "source": [
    "## Let's try embedding my Bokeh app to a website using a Heroku server\n",
    "NOTE: This notebook doesn't actually have any runnable code in it. I just wanted all my tutorials to be in Jupyter Notebooks."
   ]
  },
  {
   "cell_type": "markdown",
   "metadata": {},
   "source": [
    "## Firstly, what is Heroku?\n",
    "From Wikipedia: Heroku is a cloud platform as a service (PaaS) supporting several programming languages that is used as a web application deployment model. Heroku, one of the first cloud platforms, has been in development since June 2007, when it supported only the Ruby programming language, but now supports Java, Node.js, Scala, Clojure, Python, PHP, and Go."
   ]
  },
  {
   "cell_type": "markdown",
   "metadata": {},
   "source": [
    "## Step 1: Install Heroku's command-line interface on your system\n",
    "Follow the steps in this link on Heroku's website:\n",
    "https://devcenter.heroku.com/articles/heroku-cli"
   ]
  },
  {
   "cell_type": "markdown",
   "metadata": {},
   "source": [
    "## Step 2: Signup for a free account with Heroku\n",
    "Create an account at: https://www.heroku.com/"
   ]
  },
  {
   "cell_type": "markdown",
   "metadata": {},
   "source": [
    "## Step 3: Setting up things on your end\n",
    "1) Login to Heroku in your terminal by running\n",
    "\n",
    "`heroku login`\n",
    "\n",
    "2) Create a new Heroku app by running \n",
    "\n",
    "`heroku create appname` where `appname` is the name of the app you'd like to create\n",
    "\n",
    "3) In your file manager, create an empty folder wherever you'd like and name it whatever you called your app. Now navigate to it in your file manager. Also navigate to it in your terminal using:\n",
    "\n",
    "`cd PATH` where `PATH` is the path to your new app folder"
   ]
  },
  {
   "cell_type": "markdown",
   "metadata": {},
   "source": [
    "## Step 4: Collecting and moving files\n",
    "If you've cloned my entire repo and you're running this tutorial from within it, move the following files to the folder you created in the previous step:\n",
    "\n",
    "1) `../data/popdata.csv`\n",
    "\n",
    "2) `../data/protected.csv`\n",
    "\n",
    "3) `../data/unprotected.csv`\n",
    "\n",
    "4) `../notebooks/virtualdive.py`\n",
    "\n",
    "5) `../notebooks/requirements.txt`\n",
    "\n",
    "6) `../notebooks/runtime.txt`\n",
    "\n",
    "7) `../notebooks/Procfile`\n",
    "\n",
    "If you're just following this tutorial online and haven't cloned my repo, just download the above files from my GitHub and put them in the folder you created earlier."
   ]
  },
  {
   "cell_type": "markdown",
   "metadata": {},
   "source": [
    "## Step 5: Let me explain what's actually in those files so that you can create your own embedded app\n",
    "\n",
    "1) `../data/popdata.csv`\n",
    "\n",
    "This is simply a data file that is read by `virtualdive.py`. We created this in the first tutorial notebook.\n",
    "\n",
    "2) `../data/protected.csv`\n",
    "\n",
    "This is simply a data file that is read by `virtualdive.py`. We created this in the first tutorial notebook.\n",
    "\n",
    "3) `../data/unprotected.csv`\n",
    "\n",
    "This is simply a data file that is read by `virtualdive.py`. We created this in the first tutorial notebook.\n",
    "\n",
    "4) `../notebooks/virtualdive.py`\n",
    "\n",
    "This is a modified version of the example Bokeh app we created in the first tutorial notebook. What's different? Great question. In our imports, instead of importing:"
   ]
  },
  {
   "cell_type": "code",
   "execution_count": null,
   "metadata": {},
   "outputs": [],
   "source": [
    "## These tools show and output our Bokeh plot as an HTML file\n",
    "from bokeh.io import output_file, output_notebook, show"
   ]
  },
  {
   "cell_type": "markdown",
   "metadata": {},
   "source": [
    "We import:"
   ]
  },
  {
   "cell_type": "code",
   "execution_count": null,
   "metadata": {},
   "outputs": [],
   "source": [
    "from bokeh.io import curdoc"
   ]
  },
  {
   "cell_type": "markdown",
   "metadata": {},
   "source": [
    "This is used by the server to display your app. `output_file`, `output_notebook`, and `show` aren't necessary because we're not saving an HTML file when we run it on the server. The import section of the .py file looks like this:"
   ]
  },
  {
   "cell_type": "code",
   "execution_count": null,
   "metadata": {},
   "outputs": [],
   "source": [
    "from bokeh.io import curdoc\n",
    "from bokeh.models import (\n",
    "  GMapPlot, GMapOptions, ColumnDataSource, Circle, Annulus, Legend, LegendItem,\n",
    "    Range1d, PanTool, WheelZoomTool, CustomJS, HoverTool, TapTool\n",
    ")\n",
    "from bokeh.models.mappers import CategoricalColorMapper, LogColorMapper\n",
    "from colorcet import bkr as palette, fire as fire\n",
    "import pandas as pd\n",
    "import numpy as np`"
   ]
  },
  {
   "cell_type": "markdown",
   "metadata": {},
   "source": [
    "Additionally, compared to the Bokeh script in the Jupyter Notebook example, loading our data is a bit different. If you'd like, you can make the .py file reference to subfolder in Heroku, but I like having everything in a single directory when there's only a few files like we have here. If you have a more complex app, you'd want to add subfolders similar to how this repository is organized. Here's how we're adding data:"
   ]
  },
  {
   "cell_type": "code",
   "execution_count": null,
   "metadata": {},
   "outputs": [],
   "source": [
    "protected = pd.read_csv(\"protected.csv\")\n",
    "unprotected = pd.read_csv(\"unprotected.csv\")\n",
    "data = pd.read_csv(\"popdata.csv\")"
   ]
  },
  {
   "cell_type": "markdown",
   "metadata": {},
   "source": [
    "Lastly, at the end of the function, we no longer have `show` or `out_file`. Instead we end the .py with:"
   ]
  },
  {
   "cell_type": "code",
   "execution_count": null,
   "metadata": {},
   "outputs": [],
   "source": [
    "curdoc().add_root(plot)"
   ]
  },
  {
   "cell_type": "markdown",
   "metadata": {},
   "source": [
    "This tells the server to display our plot"
   ]
  },
  {
   "cell_type": "markdown",
   "metadata": {},
   "source": [
    "5) `../notebooks/requirements.txt`\n",
    "\n",
    "The `requirements.txt` file simply tells Heroku which packages are required to run your script. In my case, file looks like this on the inside:\n",
    "\n",
    "`bokeh==0.12.15\n",
    "numpy==1.14.2\n",
    "pandas==0.22.0\n",
    "colorcet==0.9.1`\n",
    "\n",
    "It's good to specify the version that you've tested on your system so that you know it will work on Heroku's servers."
   ]
  },
  {
   "cell_type": "markdown",
   "metadata": {},
   "source": [
    "6) `../notebooks/runtime.txt`\n",
    "\n",
    "The `runtime.txt` file tells Heroku which Python environment to run your script in. The inside of the file looks like:\n",
    "\n",
    "`python-3.6.5`\n",
    "\n",
    "In my example, we need Python 3.6.5 but you can add whatever version of Python you've built your script in as long as it works on Heroku's servers."
   ]
  },
  {
   "cell_type": "markdown",
   "metadata": {},
   "source": [
    "7) `../notebooks/Procfile`\n",
    "\n",
    "Finally, the `Procfile` is a file with **NO FILE EXTENSION** and the first letter **MUST BE CAPITALIZED**. I don't know much about what the `Procfile` actually means but here's what it looks like inside for my example:\n",
    "\n",
    "`web: bokeh serve --log-level=debug --port=$PORT --num-procs=0 --host=virtualdive.herokuapp.com --address=0.0.0.0 --use-xheaders virtualdive.py`\n",
    "\n",
    "In order to run this with your app, you need to change `virtualdive.herokuapp.com` to `appname.herokuapp.com` where `appname` is the name of your app you created in **Step 3**. You also need to change `virtualdive.py` to whatever you named your script. If you're just learning based on my example before creating your own script and app, leave it as `virtualdive.py`."
   ]
  },
  {
   "cell_type": "markdown",
   "metadata": {},
   "source": [
    "## Step 5: Sending your files over to Heroku\n",
    "1) In terminal, you should have already navigated to your folder with the above files in it. If not, run\n",
    "\n",
    "`cd PATH`\n",
    "\n",
    "Where `PATH` is the path to the folder containing the files described in **Step 4** and **5**.\n",
    "\n",
    "2) In terminal, run:\n",
    "\n",
    "`git init`\n",
    "\n",
    "This will initialize the folder with a `.git` file.\n",
    "\n",
    "3) In terminal, run:\n",
    "\n",
    "`git add .`\n",
    "\n",
    "This will `git add` all the files within the current directory.\n",
    "\n",
    "4) In terminal, run:\n",
    "\n",
    "`git commit -m \"Initial\"`\n",
    "\n",
    "This will commit all the files that you just `git add`ed. The `\"Initial\"` part can be whatever you want. It's simply a descriptor of the commit.\n",
    "\n",
    "5) In terminal, run:\n",
    "\n",
    "`git push heroku master`\n",
    "\n",
    "This will push all your files in the current folder to your Heroku app.\n",
    "\n",
    "6) In terminal, run:\n",
    "\n",
    "`heroku open`\n",
    "\n",
    "This will open your completed app in a new tab. It may take a minute or two to load the first time.\n",
    "\n",
    "You're done! I'm going to provide an additional step of me embedding it into a embed block on my SquareSpace website but I'm not going to go into much detail just because I don't understand how it works."
   ]
  },
  {
   "cell_type": "markdown",
   "metadata": {},
   "source": [
    "## Step 6: Embedding in a SquareSpace code block\n",
    "\n",
    "In order to embed the Bokeh app hosted on Heroku onto my website, I added an embed block to an empty webpage and added the following script by clicking the `</>` icon to the right:\n",
    "\n",
    "     <iframe frameborder=\"0\" style=\"border-width:0;\" id=\"iframe\" width=\"100%\" height=\"920\"></iframe>\n",
    "     <script src=\"https://ajax.googleapis.com/ajax/libs/jquery/1.11.3/jquery.min.js\"></script>\n",
    "     <script>\n",
    "     (function($){\n",
    "         $('#iframe').attr('src', 'https://virtualdive.herokuapp.com/virtualdive');\n",
    "     })(jQuery);\n",
    "     </script>\n",
    "     \n",
    "Again, I don't fully understand the specifics of what's going on in this block of code, but in order for it to work on your website you need to change `https://virtualdive.herokuapp.com/virtualdive` to the link of your app. Additionally, you can change the height and width of embedded block by altering the `width` and `height` portions of the code. I changed width to `100%` just so it fills whatever space I give it. The values here can be given as a percent or a pixel value (such as `920` which I gave as the `height` in my script)."
   ]
  },
  {
   "cell_type": "markdown",
   "metadata": {},
   "source": [
    "## Enjoy the fruits of your labor!\n",
    "\n",
    "My example is live at http://www.locatelliphotography.com/new-page-1\n",
    "\n",
    "My Heroku account is free so I have a limited number of allowed awake hours per month so the server falls asleep from 12am-6am PST. If you go to the link above during that time, it may take ~10-20 seconds to load as the server wakes up from sleep."
   ]
  }
 ],
 "metadata": {
  "kernelspec": {
   "display_name": "Python 3",
   "language": "python",
   "name": "python3"
  },
  "language_info": {
   "codemirror_mode": {
    "name": "ipython",
    "version": 3
   },
   "file_extension": ".py",
   "mimetype": "text/x-python",
   "name": "python",
   "nbconvert_exporter": "python",
   "pygments_lexer": "ipython3",
   "version": "3.6.5"
  }
 },
 "nbformat": 4,
 "nbformat_minor": 2
}

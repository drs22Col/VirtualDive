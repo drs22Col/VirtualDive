{
 "cells": [
  {
   "cell_type": "code",
   "execution_count": 1,
   "metadata": {},
   "outputs": [],
   "source": [
    "import pandas as pd\n",
    "import numpy as np\n",
    "import os\n",
    "\n",
    "pop1 = pd.read_csv(\"http://neo.sci.gsfc.nasa.gov/servlet/RenderData?si=875430&cs=rgb&format=SS.CSV&width=1440&height=720\")"
   ]
  },
  {
   "cell_type": "code",
   "execution_count": 2,
   "metadata": {},
   "outputs": [],
   "source": [
    "pop = pop1.set_index('lat/lon')\n",
    "del pop.index.name"
   ]
  },
  {
   "cell_type": "code",
   "execution_count": 3,
   "metadata": {},
   "outputs": [],
   "source": [
    "data = pop.astype(object)"
   ]
  },
  {
   "cell_type": "code",
   "execution_count": 4,
   "metadata": {},
   "outputs": [],
   "source": [
    "popdens = [] \n",
    "lon = []\n",
    "lat = []\n",
    "col = tuple(data.columns.values)"
   ]
  },
  {
   "cell_type": "code",
   "execution_count": 5,
   "metadata": {},
   "outputs": [],
   "source": [
    "for ele in data['121.375']:\n",
    "        if ele < 99999 and ele >5:\n",
    "            popdens.append(ele)\n",
    "            lon.append('121.375')\n",
    "            lat.append(data['121.375'].index[data['121.375'] == ele].tolist()[0])"
   ]
  },
  {
   "cell_type": "code",
   "execution_count": 6,
   "metadata": {},
   "outputs": [
    {
     "data": {
      "text/html": [
       "<div>\n",
       "<style scoped>\n",
       "    .dataframe tbody tr th:only-of-type {\n",
       "        vertical-align: middle;\n",
       "    }\n",
       "\n",
       "    .dataframe tbody tr th {\n",
       "        vertical-align: top;\n",
       "    }\n",
       "\n",
       "    .dataframe thead th {\n",
       "        text-align: right;\n",
       "    }\n",
       "</style>\n",
       "<table border=\"1\" class=\"dataframe\">\n",
       "  <thead>\n",
       "    <tr style=\"text-align: right;\">\n",
       "      <th></th>\n",
       "      <th>popdens</th>\n",
       "      <th>lon</th>\n",
       "      <th>lat</th>\n",
       "    </tr>\n",
       "  </thead>\n",
       "  <tbody>\n",
       "    <tr>\n",
       "      <th>0</th>\n",
       "      <td>7.09</td>\n",
       "      <td>121.375</td>\n",
       "      <td>51.375</td>\n",
       "    </tr>\n",
       "    <tr>\n",
       "      <th>1</th>\n",
       "      <td>7.09</td>\n",
       "      <td>121.375</td>\n",
       "      <td>51.375</td>\n",
       "    </tr>\n",
       "    <tr>\n",
       "      <th>2</th>\n",
       "      <td>7.09</td>\n",
       "      <td>121.375</td>\n",
       "      <td>51.375</td>\n",
       "    </tr>\n",
       "    <tr>\n",
       "      <th>3</th>\n",
       "      <td>13.13</td>\n",
       "      <td>121.375</td>\n",
       "      <td>50.625</td>\n",
       "    </tr>\n",
       "    <tr>\n",
       "      <th>4</th>\n",
       "      <td>14.11</td>\n",
       "      <td>121.375</td>\n",
       "      <td>50.375</td>\n",
       "    </tr>\n",
       "    <tr>\n",
       "      <th>5</th>\n",
       "      <td>14.11</td>\n",
       "      <td>121.375</td>\n",
       "      <td>50.375</td>\n",
       "    </tr>\n",
       "    <tr>\n",
       "      <th>6</th>\n",
       "      <td>14.11</td>\n",
       "      <td>121.375</td>\n",
       "      <td>50.375</td>\n",
       "    </tr>\n",
       "    <tr>\n",
       "      <th>7</th>\n",
       "      <td>14.11</td>\n",
       "      <td>121.375</td>\n",
       "      <td>50.375</td>\n",
       "    </tr>\n",
       "    <tr>\n",
       "      <th>8</th>\n",
       "      <td>14.11</td>\n",
       "      <td>121.375</td>\n",
       "      <td>50.375</td>\n",
       "    </tr>\n",
       "    <tr>\n",
       "      <th>9</th>\n",
       "      <td>14.11</td>\n",
       "      <td>121.375</td>\n",
       "      <td>50.375</td>\n",
       "    </tr>\n",
       "  </tbody>\n",
       "</table>\n",
       "</div>"
      ],
      "text/plain": [
       "   popdens      lon     lat\n",
       "0     7.09  121.375  51.375\n",
       "1     7.09  121.375  51.375\n",
       "2     7.09  121.375  51.375\n",
       "3    13.13  121.375  50.625\n",
       "4    14.11  121.375  50.375\n",
       "5    14.11  121.375  50.375\n",
       "6    14.11  121.375  50.375\n",
       "7    14.11  121.375  50.375\n",
       "8    14.11  121.375  50.375\n",
       "9    14.11  121.375  50.375"
      ]
     },
     "execution_count": 6,
     "metadata": {},
     "output_type": "execute_result"
    }
   ],
   "source": [
    "fin = pd.DataFrame(popdens)\n",
    "fin['lon'] = lon\n",
    "fin['lat'] = lat\n",
    "fin.rename(columns={0:'popdens'}, inplace=True)\n",
    "fin.head(10)"
   ]
  },
  {
   "cell_type": "code",
   "execution_count": null,
   "metadata": {},
   "outputs": [],
   "source": [
    "def pops(x):\n",
    "    for ele in x:\n",
    "        if ele < 99999 and ele > 5:\n",
    "            popdens.append(ele)\n",
    "            lon.append('121.375')\n",
    "            lat.append(data['121.375'].index[data['121.375'] == ele].tolist()[0])"
   ]
  },
  {
   "cell_type": "code",
   "execution_count": 16,
   "metadata": {},
   "outputs": [],
   "source": [
    "butt = data.stack().to_frame('item').query('200 < item < 99999')"
   ]
  },
  {
   "cell_type": "code",
   "execution_count": 17,
   "metadata": {},
   "outputs": [],
   "source": [
    "butt = butt.reset_index(drop=False)"
   ]
  },
  {
   "cell_type": "code",
   "execution_count": 18,
   "metadata": {},
   "outputs": [],
   "source": [
    "butt.rename(columns={'level_0':'lat','level_1':'lon','item':'popdens'}, inplace=True)"
   ]
  },
  {
   "cell_type": "code",
   "execution_count": 20,
   "metadata": {},
   "outputs": [
    {
     "data": {
      "text/html": [
       "<div>\n",
       "<style scoped>\n",
       "    .dataframe tbody tr th:only-of-type {\n",
       "        vertical-align: middle;\n",
       "    }\n",
       "\n",
       "    .dataframe tbody tr th {\n",
       "        vertical-align: top;\n",
       "    }\n",
       "\n",
       "    .dataframe thead th {\n",
       "        text-align: right;\n",
       "    }\n",
       "</style>\n",
       "<table border=\"1\" class=\"dataframe\">\n",
       "  <thead>\n",
       "    <tr style=\"text-align: right;\">\n",
       "      <th></th>\n",
       "      <th>lat</th>\n",
       "      <th>lon</th>\n",
       "      <th>popdens</th>\n",
       "    </tr>\n",
       "  </thead>\n",
       "  <tbody>\n",
       "    <tr>\n",
       "      <th>0</th>\n",
       "      <td>69.375</td>\n",
       "      <td>88.125</td>\n",
       "      <td>2102.98</td>\n",
       "    </tr>\n",
       "    <tr>\n",
       "      <th>1</th>\n",
       "      <td>65.125</td>\n",
       "      <td>57.375</td>\n",
       "      <td>790.02</td>\n",
       "    </tr>\n",
       "    <tr>\n",
       "      <th>2</th>\n",
       "      <td>64.875</td>\n",
       "      <td>-147.875</td>\n",
       "      <td>382.54</td>\n",
       "    </tr>\n",
       "    <tr>\n",
       "      <th>3</th>\n",
       "      <td>64.375</td>\n",
       "      <td>40.875</td>\n",
       "      <td>819.19</td>\n",
       "    </tr>\n",
       "    <tr>\n",
       "      <th>4</th>\n",
       "      <td>64.125</td>\n",
       "      <td>-21.875</td>\n",
       "      <td>396.67</td>\n",
       "    </tr>\n",
       "    <tr>\n",
       "      <th>5</th>\n",
       "      <td>63.375</td>\n",
       "      <td>10.125</td>\n",
       "      <td>442.25</td>\n",
       "    </tr>\n",
       "    <tr>\n",
       "      <th>6</th>\n",
       "      <td>63.375</td>\n",
       "      <td>10.375</td>\n",
       "      <td>442.25</td>\n",
       "    </tr>\n",
       "    <tr>\n",
       "      <th>7</th>\n",
       "      <td>63.375</td>\n",
       "      <td>10.625</td>\n",
       "      <td>368.92</td>\n",
       "    </tr>\n",
       "    <tr>\n",
       "      <th>8</th>\n",
       "      <td>63.125</td>\n",
       "      <td>75.375</td>\n",
       "      <td>2180.63</td>\n",
       "    </tr>\n",
       "    <tr>\n",
       "      <th>9</th>\n",
       "      <td>62.625</td>\n",
       "      <td>29.625</td>\n",
       "      <td>266.19</td>\n",
       "    </tr>\n",
       "  </tbody>\n",
       "</table>\n",
       "</div>"
      ],
      "text/plain": [
       "      lat       lon  popdens\n",
       "0  69.375    88.125  2102.98\n",
       "1  65.125    57.375   790.02\n",
       "2  64.875  -147.875   382.54\n",
       "3  64.375    40.875   819.19\n",
       "4  64.125   -21.875   396.67\n",
       "5  63.375    10.125   442.25\n",
       "6  63.375    10.375   442.25\n",
       "7  63.375    10.625   368.92\n",
       "8  63.125    75.375  2180.63\n",
       "9  62.625    29.625   266.19"
      ]
     },
     "execution_count": 20,
     "metadata": {},
     "output_type": "execute_result"
    }
   ],
   "source": [
    "butt.head(10)"
   ]
  },
  {
   "cell_type": "code",
   "execution_count": null,
   "metadata": {},
   "outputs": [],
   "source": []
  }
 ],
 "metadata": {
  "kernelspec": {
   "display_name": "Python 3",
   "language": "python",
   "name": "python3"
  },
  "language_info": {
   "codemirror_mode": {
    "name": "ipython",
    "version": 3
   },
   "file_extension": ".py",
   "mimetype": "text/x-python",
   "name": "python",
   "nbconvert_exporter": "python",
   "pygments_lexer": "ipython3",
   "version": "3.6.5"
  }
 },
 "nbformat": 4,
 "nbformat_minor": 2
}
